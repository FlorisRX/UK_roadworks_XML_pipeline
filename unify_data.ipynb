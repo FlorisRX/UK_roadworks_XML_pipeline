{
 "cells": [
  {
   "cell_type": "markdown",
   "id": "a34ea747",
   "metadata": {},
   "source": [
    "# Unify data (old & new format)"
   ]
  },
  {
   "cell_type": "code",
   "execution_count": null,
   "id": "e3495293",
   "metadata": {
    "vscode": {
     "languageId": "plaintext"
    }
   },
   "outputs": [],
   "source": [
    "import duckdb\n",
    "import glob\n",
    "import os\n",
    "from IPython.display import display\n",
    "\n",
    "\n"
   ]
  }
 ],
 "metadata": {
  "language_info": {
   "name": "python"
  }
 },
 "nbformat": 4,
 "nbformat_minor": 5
}
