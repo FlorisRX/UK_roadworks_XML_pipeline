{
 "cells": [
  {
   "cell_type": "markdown",
   "id": "a34ea747",
   "metadata": {},
   "source": [
    "# Unify data (old & new format)"
   ]
  },
  {
   "cell_type": "code",
   "execution_count": 2,
   "id": "e3495293",
   "metadata": {},
   "outputs": [
    {
     "name": "stdout",
     "output_type": "stream",
     "text": [
      "Successfully connected to roadworks_data.duckdb\n"
     ]
    },
    {
     "data": {
      "text/plain": [
       "polars.config.Config"
      ]
     },
     "execution_count": 2,
     "metadata": {},
     "output_type": "execute_result"
    }
   ],
   "source": [
    "import duckdb\n",
    "import glob\n",
    "import os\n",
    "import polars as pl\n",
    "from IPython.display import display\n",
    "\n",
    "# --- Configuration ---\n",
    "DUCKDB_FILE = 'roadworks_data.duckdb'\n",
    "RAW_NEW_TABLE_NAME = 'raw_new_roadworks'\n",
    "RAW_OLD_TABLE_NAME = 'raw_old_roadworks'\n",
    "UNIFIED_TABLE_NAME = 'uk_roadworks'\n",
    "\n",
    "# --- Helper function to run queries (optional, or use con.sql().pl() directly) ---\n",
    "def run_query_df(connection, sql_query):\n",
    "    \"\"\"Helper function to run a query and return a Polars DataFrame.\"\"\"\n",
    "    if not connection:\n",
    "        print(\"Error: Database connection is not established.\")\n",
    "        return None\n",
    "    try:\n",
    "        return connection.sql(sql_query).pl()\n",
    "    except duckdb.Error as e:\n",
    "        print(f\"Error running query:\\n{sql_query}\\nError: {e}\")\n",
    "        return None\n",
    "    except Exception as e:\n",
    "        print(f\"An unexpected error occurred: {e}\")\n",
    "        return None\n",
    "\n",
    "# --- Connect to DuckDB ---\n",
    "con = None\n",
    "try:\n",
    "    con = duckdb.connect(database=DUCKDB_FILE, read_only=False)\n",
    "    print(f\"Successfully connected to {DUCKDB_FILE}\")\n",
    "except Exception as e:\n",
    "    print(f\"Failed to connect to DuckDB: {e}\")\n",
    "\n",
    "pl.Config.set_tbl_rows(50)"
   ]
  },
  {
   "cell_type": "markdown",
   "id": "881d6523",
   "metadata": {},
   "source": [
    "## 1. Define and create unified table"
   ]
  },
  {
   "cell_type": "code",
   "execution_count": 3,
   "id": "6e42245d",
   "metadata": {},
   "outputs": [
    {
     "name": "stdout",
     "output_type": "stream",
     "text": [
      "Table 'uk_roadworks' created/re-created successfully.\n",
      "Data inserted from 'raw_new_roadworks' into 'uk_roadworks'.\n",
      "Data inserted from 'raw_old_roadworks' into 'uk_roadworks'.\n",
      "\n",
      "--- Verifying uk_roadworks ---\n",
      "Total rows in 'uk_roadworks': 23421\n",
      "\n",
      "Sample of 5 rows from 'uk_roadworks':\n"
     ]
    },
    {
     "data": {
      "text/html": [
       "<div><style>\n",
       ".dataframe > thead > tr,\n",
       ".dataframe > tbody > tr {\n",
       "  text-align: right;\n",
       "  white-space: pre-wrap;\n",
       "}\n",
       "</style>\n",
       "<small>shape: (5, 19)</small><table border=\"1\" class=\"dataframe\"><thead><tr><th>event_id</th><th>legacy_reference_id</th><th>start_datetime</th><th>end_datetime</th><th>published_datetime</th><th>expected_delay</th><th>description</th><th>closure_type</th><th>status</th><th>road_names</th><th>easting_osgb</th><th>northing_osgb</th><th>longitude_wgs84</th><th>latitude_wgs84</th><th>location_detail</th><th>local_authority</th><th>traffic_management_type</th><th>source_filename</th><th>data_source_format</th></tr><tr><td>str</td><td>i64</td><td>datetime[μs]</td><td>datetime[μs]</td><td>datetime[μs]</td><td>str</td><td>str</td><td>str</td><td>str</td><td>str</td><td>i32</td><td>i32</td><td>f64</td><td>f64</td><td>str</td><td>str</td><td>str</td><td>str</td><td>str</td></tr></thead><tbody><tr><td>&quot;00026976-005&quot;</td><td>null</td><td>2018-02-26 21:00:00</td><td>2018-02-28 06:00:00</td><td>2018-02-22 16:49:17</td><td>&quot;Slight (less than 10 mins)&quot;</td><td>&quot;A3 northbound Sheet Link entry…</td><td>&quot;Area Renewals&quot;</td><td>&quot;Published&quot;</td><td>&quot;A3&quot;</td><td>475209</td><td>124975</td><td>-0.929132</td><td>51.019241</td><td>null</td><td>null</td><td>null</td><td>&quot;he_roadworks_2018_02_26.xml&quot;</td><td>&quot;new_xml&quot;</td></tr><tr><td>&quot;00004020-008&quot;</td><td>4188720</td><td>2018-01-08 20:00:00</td><td>2018-03-10 06:00:00</td><td>2018-02-22 10:13:27</td><td>&quot;Moderate (10 - 30 mins)&quot;</td><td>&quot;A14 Westbound\n",
       "Jct 58 to Jct 57…</td><td>&quot;Area Schemes&quot;</td><td>&quot;Published&quot;</td><td>&quot;A14&quot;</td><td>614569</td><td>241115</td><td>1.126274</td><td>52.026925</td><td>null</td><td>null</td><td>null</td><td>&quot;he_roadworks_2018_02_26.xml&quot;</td><td>&quot;new_xml&quot;</td></tr><tr><td>&quot;00001459-026&quot;</td><td>4215713</td><td>2017-07-31 14:47:00</td><td>2018-04-01 06:00:00</td><td>2018-02-15 14:38:05</td><td>&quot;Slight (less than 10 mins)&quot;</td><td>&quot;M1 northbound and southbound T…</td><td>&quot;Major Schemes&quot;</td><td>&quot;Published&quot;</td><td>&quot;M1&quot;</td><td>445124</td><td>364308</td><td>-1.32637</td><td>53.173976</td><td>null</td><td>null</td><td>null</td><td>&quot;he_roadworks_2018_02_26.xml&quot;</td><td>&quot;new_xml&quot;</td></tr><tr><td>&quot;00027883-003&quot;</td><td>null</td><td>2018-02-12 20:00:00</td><td>2018-03-17 06:00:00</td><td>2018-02-21 10:36:47</td><td>&quot;Moderate (10 - 30 mins)&quot;</td><td>&quot;A259, east and westbound betwe…</td><td>&quot;Area Schemes&quot;</td><td>&quot;Published&quot;</td><td>&quot;A259&quot;</td><td>596442</td><td>123787</td><td>0.797101</td><td>50.979974</td><td>null</td><td>null</td><td>null</td><td>&quot;he_roadworks_2018_02_26.xml&quot;</td><td>&quot;new_xml&quot;</td></tr><tr><td>&quot;00026799-002&quot;</td><td>null</td><td>2018-02-10 22:00:00</td><td>2018-03-22 06:00:00</td><td>2018-02-22 14:08:43</td><td>&quot;Slight (less than 10 mins)&quot;</td><td>&quot;A3 northbound Compton to Denni…</td><td>&quot;Regional Technology Works&quot;</td><td>&quot;Published&quot;</td><td>&quot;A3&quot;</td><td>498261</td><td>150727</td><td>-0.593562</td><td>51.247262</td><td>null</td><td>null</td><td>null</td><td>&quot;he_roadworks_2018_02_26.xml&quot;</td><td>&quot;new_xml&quot;</td></tr></tbody></table></div>"
      ],
      "text/plain": [
       "shape: (5, 19)\n",
       "┌───────────┬───────────┬───────────┬───────────┬───┬───────────┬───────────┬───────────┬──────────┐\n",
       "│ event_id  ┆ legacy_re ┆ start_dat ┆ end_datet ┆ … ┆ local_aut ┆ traffic_m ┆ source_fi ┆ data_sou │\n",
       "│ ---       ┆ ference_i ┆ etime     ┆ ime       ┆   ┆ hority    ┆ anagement ┆ lename    ┆ rce_form │\n",
       "│ str       ┆ d         ┆ ---       ┆ ---       ┆   ┆ ---       ┆ _type     ┆ ---       ┆ at       │\n",
       "│           ┆ ---       ┆ datetime[ ┆ datetime[ ┆   ┆ str       ┆ ---       ┆ str       ┆ ---      │\n",
       "│           ┆ i64       ┆ μs]       ┆ μs]       ┆   ┆           ┆ str       ┆           ┆ str      │\n",
       "╞═══════════╪═══════════╪═══════════╪═══════════╪═══╪═══════════╪═══════════╪═══════════╪══════════╡\n",
       "│ 00026976- ┆ null      ┆ 2018-02-2 ┆ 2018-02-2 ┆ … ┆ null      ┆ null      ┆ he_roadwo ┆ new_xml  │\n",
       "│ 005       ┆           ┆ 6         ┆ 8         ┆   ┆           ┆           ┆ rks_2018_ ┆          │\n",
       "│           ┆           ┆ 21:00:00  ┆ 06:00:00  ┆   ┆           ┆           ┆ 02_26.xml ┆          │\n",
       "│ 00004020- ┆ 4188720   ┆ 2018-01-0 ┆ 2018-03-1 ┆ … ┆ null      ┆ null      ┆ he_roadwo ┆ new_xml  │\n",
       "│ 008       ┆           ┆ 8         ┆ 0         ┆   ┆           ┆           ┆ rks_2018_ ┆          │\n",
       "│           ┆           ┆ 20:00:00  ┆ 06:00:00  ┆   ┆           ┆           ┆ 02_26.xml ┆          │\n",
       "│ 00001459- ┆ 4215713   ┆ 2017-07-3 ┆ 2018-04-0 ┆ … ┆ null      ┆ null      ┆ he_roadwo ┆ new_xml  │\n",
       "│ 026       ┆           ┆ 1         ┆ 1         ┆   ┆           ┆           ┆ rks_2018_ ┆          │\n",
       "│           ┆           ┆ 14:47:00  ┆ 06:00:00  ┆   ┆           ┆           ┆ 02_26.xml ┆          │\n",
       "│ 00027883- ┆ null      ┆ 2018-02-1 ┆ 2018-03-1 ┆ … ┆ null      ┆ null      ┆ he_roadwo ┆ new_xml  │\n",
       "│ 003       ┆           ┆ 2         ┆ 7         ┆   ┆           ┆           ┆ rks_2018_ ┆          │\n",
       "│           ┆           ┆ 20:00:00  ┆ 06:00:00  ┆   ┆           ┆           ┆ 02_26.xml ┆          │\n",
       "│ 00026799- ┆ null      ┆ 2018-02-1 ┆ 2018-03-2 ┆ … ┆ null      ┆ null      ┆ he_roadwo ┆ new_xml  │\n",
       "│ 002       ┆           ┆ 0         ┆ 2         ┆   ┆           ┆           ┆ rks_2018_ ┆          │\n",
       "│           ┆           ┆ 22:00:00  ┆ 06:00:00  ┆   ┆           ┆           ┆ 02_26.xml ┆          │\n",
       "└───────────┴───────────┴───────────┴───────────┴───┴───────────┴───────────┴───────────┴──────────┘"
      ]
     },
     "metadata": {},
     "output_type": "display_data"
    },
    {
     "name": "stdout",
     "output_type": "stream",
     "text": [
      "Changes committed.\n"
     ]
    }
   ],
   "source": [
    "# --- 1. Define and Create Unified Table ---\n",
    "# Consider primary keys, constraints, and exact data types based on your analysis.\n",
    "# event_id: NEW_EVENT_NUMBER for new, reference_number for old.\n",
    "# legacy_reference_id: OLD_REFERENCE_NUMBER from new data.\n",
    "# Using the _NUMERIC and _DT columns created in data_exploration.ipynb.\n",
    "\n",
    "create_unified_table_sql = f\"\"\"\n",
    "CREATE OR REPLACE TABLE \"{UNIFIED_TABLE_NAME}\" (\n",
    "    event_id VARCHAR,                        -- NEW_EVENT_NUMBER (new) or reference_number (old)\n",
    "    legacy_reference_id BIGINT,              -- OLD_REFERENCE_NUMBER (new)\n",
    "    start_datetime TIMESTAMP,                -- SDATE_DT (new) or start_date_dt (old)\n",
    "    end_datetime TIMESTAMP,                  -- EDATE_DT (new) or end_date_dt (old)\n",
    "    published_datetime TIMESTAMP,            -- PUBLISHED_DATE_DT (new) or published_date_dt (old)\n",
    "    expected_delay VARCHAR,                  -- EXPDEL (new) or expected_delay (old)\n",
    "    description VARCHAR,                     -- DESCRIPTION (new) or description (old)\n",
    "    closure_type VARCHAR,                    -- CLOSURE_TYPE (new) or closure_type (old)\n",
    "    status VARCHAR,                          -- STATUS (new) or status (old)\n",
    "    road_names VARCHAR,                      -- ROAD_NUMBERS (new) or road (old)\n",
    "    easting_osgb INTEGER,                    -- CENTRE_EASTING_NUMERIC (new) or centre_easting_numeric (old)\n",
    "    northing_osgb INTEGER,                   -- CENTRE_NORTHING_NUMERIC (new) or centre_northing_numeric (old)\n",
    "    longitude_wgs84 DOUBLE,\n",
    "    latitude_wgs84 DOUBLE,\n",
    "    location_detail VARCHAR,                 -- location (old only)\n",
    "    local_authority VARCHAR,                 -- local_authority (old only)\n",
    "    traffic_management_type VARCHAR,         -- traffic_management (old only)\n",
    "    source_filename VARCHAR,\n",
    "    data_source_format VARCHAR              -- 'new_xml' or 'old_xml'\n",
    ");\n",
    "\"\"\"\n",
    "con.execute(create_unified_table_sql)\n",
    "print(f\"Table '{UNIFIED_TABLE_NAME}' created/re-created successfully.\")\n",
    "\n",
    "# --- 2. Populate Unified Table from New Format Data ---\n",
    "# Ensure you use the columns with converted data types (e.g., _NUMERIC, _DT)\n",
    "insert_from_new_sql = f\"\"\"\n",
    "INSERT INTO \"{UNIFIED_TABLE_NAME}\"\n",
    "SELECT\n",
    "    \"NEW_EVENT_NUMBER\" AS event_id,\n",
    "    \"OLD_REFERENCE_NUMBER\" AS legacy_reference_id, -- Use OLD_REFERENCE_NUMBER_NUMERIC if it's always numeric and preferred\n",
    "    \"SDATE_DT\" AS start_datetime,\n",
    "    \"EDATE_DT\" AS end_datetime,\n",
    "    \"PUBLISHED_DATE_DT\" AS published_datetime,\n",
    "    \"EXPDEL\" AS expected_delay,\n",
    "    \"DESCRIPTION\" AS description,\n",
    "    \"CLOSURE_TYPE\" AS closure_type,\n",
    "    \"STATUS\" AS status,\n",
    "    \"ROAD_NUMBERS\" AS road_names,\n",
    "    \"CENTRE_EASTING_NUMERIC\" AS easting_osgb,\n",
    "    \"CENTRE_NORTHING_NUMERIC\" AS northing_osgb,\n",
    "    longitude_wgs84,\n",
    "    latitude_wgs84,\n",
    "    NULL AS location_detail,        -- Not present in new format\n",
    "    NULL AS local_authority,        -- Not present in new format\n",
    "    NULL AS traffic_management_type,-- Not present in new format\n",
    "    source_filename,\n",
    "    'new_xml' AS data_source_format\n",
    "FROM \"{RAW_NEW_TABLE_NAME}\";\n",
    "\"\"\"\n",
    "con.execute(insert_from_new_sql)\n",
    "print(f\"Data inserted from '{RAW_NEW_TABLE_NAME}' into '{UNIFIED_TABLE_NAME}'.\")\n",
    "\n",
    "# --- 3. Populate Unified Table from Old Format Data ---\n",
    "insert_from_old_sql = f\"\"\"\n",
    "INSERT INTO \"{UNIFIED_TABLE_NAME}\"\n",
    "SELECT\n",
    "    \"reference_number\" AS event_id, -- Use reference_number_numeric if preferred and always populated\n",
    "    NULL AS legacy_reference_id,    -- Not applicable or directly present in old format structure\n",
    "    \"start_date_dt\" AS start_datetime,\n",
    "    \"end_date_dt\" AS end_datetime,\n",
    "    \"published_date_dt\" AS published_datetime,\n",
    "    \"expected_delay\" AS expected_delay,\n",
    "    \"description\" AS description,\n",
    "    \"closure_type\" AS closure_type,\n",
    "    \"status\" AS status,\n",
    "    \"road\" AS road_names,\n",
    "    \"centre_easting_numeric\" AS easting_osgb,\n",
    "    \"centre_northing_numeric\" AS northing_osgb,\n",
    "    longitude_wgs84,\n",
    "    latitude_wgs84,\n",
    "    \"location\" AS location_detail,\n",
    "    \"local_authority\" AS local_authority,\n",
    "    \"traffic_management\" AS traffic_management_type,\n",
    "    source_filename,\n",
    "    'old_xml' AS data_source_format\n",
    "FROM \"{RAW_OLD_TABLE_NAME}\";\n",
    "\"\"\"\n",
    "con.execute(insert_from_old_sql)\n",
    "print(f\"Data inserted from '{RAW_OLD_TABLE_NAME}' into '{UNIFIED_TABLE_NAME}'.\")\n",
    "\n",
    "# --- 4. Verification (Example) ---\n",
    "print(f\"\\n--- Verifying {UNIFIED_TABLE_NAME} ---\")\n",
    "total_rows_unified = con.execute(f'SELECT COUNT(*) FROM \"{UNIFIED_TABLE_NAME}\"').fetchone()[0]\n",
    "print(f\"Total rows in '{UNIFIED_TABLE_NAME}': {total_rows_unified}\")\n",
    "\n",
    "print(f\"\\nSample of 5 rows from '{UNIFIED_TABLE_NAME}':\")\n",
    "sample_unified_df = run_query_df(con, f'SELECT * FROM \"{UNIFIED_TABLE_NAME}\" LIMIT 5')\n",
    "if sample_unified_df is not None:\n",
    "    display(sample_unified_df)\n",
    "\n",
    "# Further verification:\n",
    "# - Check counts per data_source_format\n",
    "# - Examine distinct values for standardized columns (expected_delay, status, closure_type)\n",
    "# - Check for NULLs in key columns\n",
    "\n",
    "con.commit()\n",
    "print(\"Changes committed.\")"
   ]
  },
  {
   "cell_type": "code",
   "execution_count": null,
   "id": "80eeb1d4",
   "metadata": {},
   "outputs": [],
   "source": [
    "con.close()"
   ]
  }
 ],
 "metadata": {
  "kernelspec": {
   "display_name": "xml",
   "language": "python",
   "name": "python3"
  },
  "language_info": {
   "codemirror_mode": {
    "name": "ipython",
    "version": 3
   },
   "file_extension": ".py",
   "mimetype": "text/x-python",
   "name": "python",
   "nbconvert_exporter": "python",
   "pygments_lexer": "ipython3",
   "version": "3.13.2"
  }
 },
 "nbformat": 4,
 "nbformat_minor": 5
}
